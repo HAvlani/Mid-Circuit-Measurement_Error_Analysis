{
 "cells": [
  {
   "cell_type": "code",
   "execution_count": 1,
   "metadata": {},
   "outputs": [],
   "source": [
    "import rbbuild\n",
    "from scipy.stats import chi2_contingency as chisquare\n",
    "from scipy.stats import chi2 as chi2\n",
    "import numpy as np\n",
    "from scipy.optimize import curve_fit\n",
    "import matplotlib.pyplot as plt"
   ]
  },
  {
   "attachments": {},
   "cell_type": "markdown",
   "metadata": {},
   "source": [
    "Run Circuits on QC"
   ]
  },
  {
   "cell_type": "code",
   "execution_count": 2,
   "metadata": {},
   "outputs": [],
   "source": [
    "results_delay_0_1 = rbbuild.rundelayrb(True, 1, 70, 0, 1, backend_name=\"ibm_nairobi\")"
   ]
  },
  {
   "cell_type": "code",
   "execution_count": 4,
   "metadata": {},
   "outputs": [],
   "source": [
    "results_mcm_0_1 = rbbuild.runmcmrb(True, 1, 70, 0, 1, backend_name=\"ibm_nairobi\")"
   ]
  },
  {
   "cell_type": "code",
   "execution_count": null,
   "metadata": {},
   "outputs": [],
   "source": [
    "results_mcm_0_6 = rbbuild.runmcmrb(True, 1, 70, 0, 6, backend_name=\"ibm_nairobi\")"
   ]
  },
  {
   "cell_type": "code",
   "execution_count": null,
   "metadata": {},
   "outputs": [],
   "source": [
    "results_delay_0_6 = rbbuild.rundelayrb(True, 1, 70, 0, 6, backend_name=\"ibm_nairobi\")"
   ]
  },
  {
   "cell_type": "code",
   "execution_count": null,
   "metadata": {},
   "outputs": [],
   "source": [
    "results_delay_4_5 = rbbuild.rundelayrb(True, 1, 70, 4, 5, backend_name=\"ibm_nairobi\")"
   ]
  },
  {
   "cell_type": "code",
   "execution_count": null,
   "metadata": {},
   "outputs": [],
   "source": [
    "results_mcm_4_5 = rbbuild.runmcmrb(True, 1, 70, 4, 5, backend_name=\"ibm_nairobi\")"
   ]
  },
  {
   "attachments": {},
   "cell_type": "markdown",
   "metadata": {},
   "source": [
    "Generate Gate List"
   ]
  },
  {
   "cell_type": "code",
   "execution_count": null,
   "metadata": {},
   "outputs": [],
   "source": [
    "gatelist = []\n",
    "for i in range(1, 70, 1):\n",
    "    gatelist.append(i)"
   ]
  },
  {
   "attachments": {},
   "cell_type": "markdown",
   "metadata": {},
   "source": [
    "#ADD PAIRED T-Test"
   ]
  },
  {
   "attachments": {},
   "cell_type": "markdown",
   "metadata": {},
   "source": [
    "Make Dictionary of Results and Do a Chisquare between Mcm and Delay"
   ]
  },
  {
   "cell_type": "code",
   "execution_count": null,
   "metadata": {},
   "outputs": [],
   "source": [
    "delaydict_0_1 = rbbuild.getexpectedcounts(results_delay_0_1, gatelist)\n",
    "mcmdict_0_1 = rbbuild.getexpectedcounts(results_mcm_0_1, gatelist)\n",
    "countmatrix = rbbuild.getcountmatrix(results_delay_0_1, results_mcm_0_1)\n",
    "[statistic, pval, dof, expected_freq] = chisquare(countmatrix)\n",
    "sig_level = chi2.ppf(0.05, dof)\n",
    "print(dof)\n",
    "print(sig_level)\n",
    "print(pval)"
   ]
  },
  {
   "cell_type": "code",
   "execution_count": null,
   "metadata": {},
   "outputs": [],
   "source": [
    "delaydict_0_6 = rbbuild.getexpectedcounts(results_delay_0_6, gatelist)\n",
    "mcmdict_0_6 = rbbuild.getexpectedcounts(results_mcm_0_6, gatelist)\n",
    "\n",
    "countmatrix = rbbuild.getcountmatrix(results_delay_0_6, results_mcm_0_6)\n",
    "[statistic, pval, dof, expected_freq] = chisquare(countmatrix)\n",
    "sig_level = chi2.ppf(0.05, dof)\n",
    "print(dof)\n",
    "print(sig_level)\n",
    "print(pval)\n"
   ]
  },
  {
   "cell_type": "code",
   "execution_count": null,
   "metadata": {},
   "outputs": [],
   "source": [
    "delaydict_4_5 = rbbuild.getexpectedcounts(results_delay_4_5, gatelist)\n",
    "mcmdict_4_5 = rbbuild.getexpectedcounts(results_mcm_4_5, gatelist)\n",
    "\n",
    "countmatrix = rbbuild.getcountmatrix(results_delay_4_5, results_mcm_4_5)\n",
    "[statistic, pval, dof, expected_freq] = chisquare(countmatrix)\n",
    "sig_level = chi2.ppf(0.05, dof)\n",
    "print(dof)\n",
    "print(sig_level)\n",
    "print(pval)\n"
   ]
  },
  {
   "attachments": {},
   "cell_type": "markdown",
   "metadata": {},
   "source": [
    "Possible Fit Functions"
   ]
  },
  {
   "cell_type": "code",
   "execution_count": null,
   "metadata": {},
   "outputs": [],
   "source": [
    "def monoExp(x, m, t, b):\n",
    "    return m * np.exp(-t * x) + b"
   ]
  },
  {
   "cell_type": "code",
   "execution_count": null,
   "metadata": {},
   "outputs": [],
   "source": [
    "def expfunction_alpha(x, a, b, c):\n",
    "    return a * b**x + c\n"
   ]
  },
  {
   "cell_type": "markdown",
   "metadata": {},
   "source": [
    "Graph"
   ]
  },
  {
   "cell_type": "code",
   "execution_count": null,
   "metadata": {},
   "outputs": [],
   "source": [
    "xmcm_0_1 = np.array(list(mcmdict_0_1.keys()))\n",
    "ymcm_0_1 = np.array(list(mcmdict_0_1.values()))\n",
    "p0 = (40, .5, 100)\n",
    "\n",
    "params, cv = curve_fit(expfunction_alpha, xmcm_0_1, ymcm_0_1, p0, maxfev = 5000)\n",
    "m1_0_1, t1_0_1, b1_0_1 = params\n",
    "# params, covs = curve_fit(rbbuild.expfunction_alpha, x, y)\n",
    "# a, b, c = params[0], params[1], params[2]\n",
    "# yfit1 = a * b**x + c\n",
    "\n",
    "print(params)\n",
    "plt.scatter(xmcm_0_1, ymcm_0_1, label=\"mcmrb_0_1\")\n",
    "plt.plot(xmcm_0_1, expfunction_alpha(\n",
    "    xmcm_0_1, m1_0_1, t1_0_1, b1_0_1), '--', label=\"fitted\")\n",
    "# plt.scatter(runmcmsimdata.keys(), runmcmsimdata.values(), label=\"mcmrb\")\n",
    "# plt.plot(x, yfit1)\n",
    "plt.legend()\n",
    "plt.show()\n",
    "\n",
    "squaredDiffs = np.square(\n",
    "    ymcm_0_1 - expfunction_alpha(xmcm_0_1, m1_0_1, t1_0_1, b1_0_1))\n",
    "squaredDiffsFromMean = np.square(ymcm_0_1 - np.mean(ymcm_0_1))\n",
    "rSquared = 1 - np.sum(squaredDiffs) / np.sum(squaredDiffsFromMean)\n",
    "print(f\"R² = {rSquared}\")\n",
    "print(f\"Y = {m1_0_1} * {t1_0_1}^(x) + {b1_0_1}\")\n"
   ]
  },
  {
   "cell_type": "code",
   "execution_count": null,
   "metadata": {},
   "outputs": [],
   "source": [
    "xmcm_4_5 = np.array(list(mcmdict_4_5.keys()))\n",
    "ymcm_4_5 = np.array(list(mcmdict_4_5.values()))\n",
    "p0 = (4000, .5, 100)\n",
    "\n",
    "params, cv = curve_fit(expfunction_alpha, xmcm_4_5, ymcm_4_5, p0, maxfev=5000)\n",
    "m1_4_5, t1_4_5, b1_4_5 = params\n",
    "# params, covs = curve_fit(rbbuild.expfunction_alpha, x, y)\n",
    "# a, b, c = params[0], params[1], params[2]\n",
    "# yfit1 = a * b**x + c\n",
    "\n",
    "print(params)\n",
    "plt.scatter(xmcm_4_5, ymcm_4_5, label=\"mcmrb_4_5\")\n",
    "plt.plot(xmcm_4_5, expfunction_alpha(\n",
    "    xmcm_4_5, m1_4_5, t1_4_5, b1_4_5), '--', label=\"fitted\")\n",
    "# plt.scatter(runmcmsimdata.keys(), runmcmsimdata.values(), label=\"mcmrb\")\n",
    "# plt.plot(x, yfit1)\n",
    "plt.legend()\n",
    "plt.show()\n",
    "\n",
    "squaredDiffs = np.square(\n",
    "    ymcm_4_5 - expfunction_alpha(xmcm_4_5, m1_4_5, t1_4_5, b1_4_5))\n",
    "squaredDiffsFromMean = np.square(ymcm_4_5 - np.mean(ymcm_4_5))\n",
    "rSquared = 1 - np.sum(squaredDiffs) / np.sum(squaredDiffsFromMean)\n",
    "print(f\"R² = {rSquared}\")\n",
    "print(f\"Y = {m1_4_5} * {t1_4_5}^(x) + {b1_4_5}\")\n"
   ]
  },
  {
   "cell_type": "code",
   "execution_count": null,
   "metadata": {},
   "outputs": [],
   "source": [
    "xmcm_0_6 = np.array(list(mcmdict_0_6.keys()))\n",
    "ymcm_0_6 = np.array(list(mcmdict_0_6.values()))\n",
    "p0 = (4000, .5, 100)\n",
    "\n",
    "params, cv = curve_fit(expfunction_alpha, xmcm_0_6, ymcm_0_6, p0, maxfev=5000)\n",
    "m1_0_6, t1_0_6, b1_0_6 = params\n",
    "# params, covs = curve_fit(rbbuild.expfunction_alpha, x, y)\n",
    "# a, b, c = params[0], params[1], params[2]\n",
    "# yfit1 = a * b**x + c\n",
    "\n",
    "print(params)\n",
    "plt.scatter(xmcm_0_6, ymcm_0_6, label=\"mcmrb_0_6\")\n",
    "plt.plot(xmcm_0_6, expfunction_alpha(\n",
    "    xmcm_0_6, m1_0_6, t1_0_6, b1_0_6), '--', label=\"fitted\")\n",
    "# plt.scatter(runmcmsimdata.keys(), runmcmsimdata.values(), label=\"mcmrb\")\n",
    "# plt.plot(x, yfit1)\n",
    "plt.legend()\n",
    "plt.show()\n",
    "\n",
    "squaredDiffs = np.square(\n",
    "    ymcm_0_6 - expfunction_alpha(xmcm_0_6, m1_0_6, t1_0_6, b1_0_6))\n",
    "squaredDiffsFromMean = np.square(ymcm_0_6 - np.mean(ymcm_0_6))\n",
    "rSquared = 1 - np.sum(squaredDiffs) / np.sum(squaredDiffsFromMean)\n",
    "print(f\"R² = {rSquared}\")\n",
    "print(f\"Y = {m1_0_6} * {t1_0_6}^(x) + {b1_0_6}\")\n"
   ]
  },
  {
   "cell_type": "code",
   "execution_count": null,
   "metadata": {},
   "outputs": [],
   "source": [
    "xdel_0_1 = np.array(list(delaydict_0_1.keys()))\n",
    "ydel_0_1 = np.array(list(delaydict_0_1.values()))\n",
    "p0 = (4000, .5, 100)\n",
    "\n",
    "params, cv = curve_fit(expfunction_alpha, xdel_0_1, ydel_0_1, p0, maxfev=5000)\n",
    "m2_0_1, t2_0_1, b2_0_1 = params\n",
    "\n",
    "plt.scatter(xdel_0_1, ydel_0_1, label=\"delrb_0_1\")\n",
    "plt.plot(xdel_0_1, expfunction_alpha(\n",
    "    xdel_0_1, m2_0_1, t2_0_1, b2_0_1), '--', label=\"fitted\")\n",
    "\n",
    "plt.legend()\n",
    "plt.show()\n",
    "\n",
    "squaredDiffs = np.square(\n",
    "    ydel_0_1 - expfunction_alpha(xdel_0_1, m2_0_1, t2_0_1, b2_0_1))\n",
    "squaredDiffsFromMean = np.square(ydel_0_1 - np.mean(ydel_0_1))\n",
    "rSquared = 1 - np.sum(squaredDiffs) / np.sum(squaredDiffsFromMean)\n",
    "print(f\"R² = {rSquared}\")\n",
    "print(f\"Y = {m2_0_1} * {t2_0_1}^(x) + {b2_0_1}\")"
   ]
  },
  {
   "cell_type": "code",
   "execution_count": null,
   "metadata": {},
   "outputs": [],
   "source": [
    "xdel_0_6 = np.array(list(delaydict_0_6.keys()))\n",
    "ydel_0_6 = np.array(list(delaydict_0_6.values()))\n",
    "p0 = (4000, .5, 100)\n",
    "\n",
    "params, cv = curve_fit(expfunction_alpha, xdel_0_6, ydel_0_6, p0, maxfev=5000)\n",
    "m2_0_6, t2_0_6, b2_0_6 = params\n",
    "\n",
    "plt.scatter(xdel_0_6, ydel_0_6, label=\"delrb_0_6\")\n",
    "plt.plot(xdel_0_6, expfunction_alpha(\n",
    "    xdel_0_6, m2_0_6, t2_0_6, b2_0_6), '--', label=\"fitted\")\n",
    "\n",
    "plt.legend()\n",
    "plt.show()\n",
    "\n",
    "squaredDiffs = np.square(\n",
    "    ydel_0_6 - expfunction_alpha(xdel_0_6, m2_0_6, t2_0_6, b2_0_6))\n",
    "squaredDiffsFromMean = np.square(ydel_0_6 - np.mean(ydel_0_6))\n",
    "rSquared = 1 - np.sum(squaredDiffs) / np.sum(squaredDiffsFromMean)\n",
    "print(f\"R² = {rSquared}\")\n",
    "print(f\"Y = {m2_0_6} * {t2_0_6}^(x) + {b2_0_6}\")\n"
   ]
  },
  {
   "cell_type": "code",
   "execution_count": null,
   "metadata": {},
   "outputs": [],
   "source": [
    "xdel_4_5 = np.array(list(delaydict_4_5.keys()))\n",
    "ydel_4_5 = np.array(list(delaydict_4_5.values()))\n",
    "p0 = (4000, .5, 100)\n",
    "\n",
    "params, cv = curve_fit(expfunction_alpha, xdel_4_5, ydel_4_5, p0, maxfev=5000)\n",
    "m2_4_5, t2_4_5, b2_4_5 = params\n",
    "\n",
    "plt.scatter(xdel_4_5, ydel_4_5, label=\"delrb_4_5\")\n",
    "plt.plot(xdel_4_5, expfunction_alpha(\n",
    "    xdel_4_5, m2_4_5, t2_4_5, b2_4_5), '--', label=\"fitted\")\n",
    "\n",
    "plt.legend()\n",
    "plt.show()\n",
    "\n",
    "squaredDiffs = np.square(\n",
    "    ydel_4_5 - expfunction_alpha(xdel_4_5, m2_4_5, t2_4_5, b2_4_5))\n",
    "squaredDiffsFromMean = np.square(ydel_4_5 - np.mean(ydel_4_5))\n",
    "rSquared = 1 - np.sum(squaredDiffs) / np.sum(squaredDiffsFromMean)\n",
    "print(f\"R² = {rSquared}\")\n",
    "print(f\"Y = {m2_4_5} * {t2_4_5}^(x) + {b2_4_5}\")\n"
   ]
  },
  {
   "cell_type": "code",
   "execution_count": null,
   "metadata": {},
   "outputs": [],
   "source": [
    "plt.plot(xdel_0_1, expfunction_alpha(\n",
    "    xdel_0_1, m2_0_1, t2_0_1, b2_0_1)/1500, '--', label=\"fitted_del_0_1\")\n",
    "plt.plot(xmcm_0_1, expfunction_alpha(\n",
    "    xmcm_0_1, m1_0_1, t1_0_1, b1_0_1)/1500, '--', label=\"fitted_mcm_0_1\")\n",
    "#plt.plot(xdel_0_6, expfunction_alpha(\n",
    "#    xdel_0_6, m2_0_6, t2_0_6, b2_0_6), '--', label=\"fitted_del_0_6\")\n",
    "#plt.plot(xmcm_0_6, expfunction_alpha(\n",
    "#    xmcm_0_6, m1_0_6, t1_0_6, b1_0_6), '--', label=\"fitted_mcm_0_6\")\n",
    "plt.plot(xdel_4_5, expfunction_alpha(\n",
    "    xdel_4_5, m2_4_5, t2_4_5, b2_4_5), '--', label=\"fitted_del_4_5\")\n",
    "plt.plot(xmcm_4_5, expfunction_alpha(\n",
    "    xmcm_4_5, m1_4_5, t1_4_5, b1_4_5), '--', label=\"fitted_mcm_4_5\")\n",
    "plt.legend()\n",
    "plt.show()\n"
   ]
  }
 ],
 "metadata": {
  "kernelspec": {
   "display_name": "Python 3",
   "language": "python",
   "name": "python3"
  },
  "language_info": {
   "codemirror_mode": {
    "name": "ipython",
    "version": 3
   },
   "file_extension": ".py",
   "mimetype": "text/x-python",
   "name": "python",
   "nbconvert_exporter": "python",
   "pygments_lexer": "ipython3",
   "version": "3.9.2"
  },
  "orig_nbformat": 4,
  "vscode": {
   "interpreter": {
    "hash": "7812ea015bdcee6f23a998adcdd2ef97c151c0c241b7b7070987d9313e41299d"
   }
  }
 },
 "nbformat": 4,
 "nbformat_minor": 2
}
