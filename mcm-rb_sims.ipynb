{
 "cells": [
  {
   "cell_type": "code",
   "execution_count": 5,
   "id": "346c93b0",
   "metadata": {},
   "outputs": [],
   "source": [
    "import warnings\n",
    "warnings.filterwarnings('ignore')\n",
    "#Import general libraries (needed for functions)\n",
    "import numpy as np\n",
    "import scipy as sp\n",
    "import matplotlib.pyplot as plt\n",
    "from scipy.optimize import curve_fit\n",
    "import pickle as pk\n",
    "\n",
    "#Import Qiskit classes classes\n",
    "import qiskit\n",
    "from qiskit import IBMQ\n",
    "from qiskit import Aer\n",
    "\n",
    "from qiskit.compiler import transpile, assemble\n",
    "from qiskit.result import marginal_counts as margct\n",
    "from qiskit.circuit.exceptions import CircuitError\n",
    "from qiskit.tools.monitor import job_monitor\n",
    "import qiskit.quantum_info as qi\n",
    "\n",
    "import mcm_rb_circuits_for_simulation as mcmrb_sims\n",
    "\n",
    "#aer noise stuff\n",
    "import qiskit.providers.aer.noise as noise"
   ]
  },
  {
   "cell_type": "code",
   "execution_count": 6,
   "id": "b38c6523",
   "metadata": {},
   "outputs": [],
   "source": [
    "def save_object(obj,name):\n",
    "    try:\n",
    "        with open(name, \"wb\") as f:\n",
    "            pk.dump(obj, f, protocol=pk.HIGHEST_PROTOCOL)\n",
    "    except Exception as ex:\n",
    "        print(\"Error during pickling object (Possibly unsupported):\", ex)"
   ]
  },
  {
   "cell_type": "code",
   "execution_count": 7,
   "id": "f34d9f77",
   "metadata": {},
   "outputs": [],
   "source": [
    "simulator = Aer.get_backend('aer_simulator_density_matrix')"
   ]
  },
  {
   "cell_type": "markdown",
   "id": "b824193c",
   "metadata": {},
   "source": [
    "# Error Sweeps"
   ]
  },
  {
   "cell_type": "markdown",
   "id": "8d07e387",
   "metadata": {},
   "source": [
    "### Error models"
   ]
  },
  {
   "cell_type": "code",
   "execution_count": 8,
   "id": "9996b8fe",
   "metadata": {},
   "outputs": [],
   "source": [
    "# Control qubit errors\n",
    "\n",
    "# Error probabilities for control qubits\n",
    "prob_c1 = 0.001  # 1-qubit gate\n",
    "prob_c2 = 0.01   # 2-qubit gate\n",
    "\n",
    "# Depolarizing control errors\n",
    "error_c1 = noise.depolarizing_error(prob_c1, 1)\n",
    "error_c2 = noise.depolarizing_error(prob_c2, 2)\n",
    "\n",
    "#T1 and T2 (all same unit (us))\n",
    "t1 = 345\n",
    "t2 = 280\n",
    "meas_time = 0.71\n",
    "error_t1t2 = noise.thermal_relaxation_error(t1, t2, meas_time).tensor(noise.depolarizing_error(0.0, 1))"
   ]
  },
  {
   "cell_type": "code",
   "execution_count": 9,
   "id": "9ca9c7a7",
   "metadata": {},
   "outputs": [],
   "source": [
    "T1T2E = noise.thermal_relaxation_error(t1, t2, meas_time).to_quantumchannel()"
   ]
  },
  {
   "cell_type": "code",
   "execution_count": 10,
   "id": "2e120f18",
   "metadata": {},
   "outputs": [],
   "source": [
    "#Measurement induced Stark shift\n",
    "def U_stark(phi):\n",
    "    return sp.linalg.expm(-1j*phi*np.array([[1,0],[0,-1]]))\n",
    "    \n",
    "#Probabilistic cross-measurement\n",
    "def cm_K(cm_prob):\n",
    "    return [np.sqrt(1-cm_prob)*np.array([[1.0,0.0],[0.0,1.0]]),np.sqrt(cm_prob)*np.array([[1.0,0.0],[0.0,0.0]]),np.sqrt(cm_prob)*np.array([[0.0,0.0],[0.0,1.0]])]\n"
   ]
  },
  {
   "cell_type": "code",
   "execution_count": 11,
   "id": "a10dc22f",
   "metadata": {},
   "outputs": [
    {
     "ename": "NameError",
     "evalue": "name 'prob_a1' is not defined",
     "output_type": "error",
     "traceback": [
      "\u001b[0;31m---------------------------------------------------------------------------\u001b[0m",
      "\u001b[0;31mNameError\u001b[0m                                 Traceback (most recent call last)",
      "Cell \u001b[0;32mIn[11], line 4\u001b[0m\n\u001b[1;32m      1\u001b[0m \u001b[39m# Combined errors\u001b[39;00m\n\u001b[1;32m      2\u001b[0m \n\u001b[1;32m      3\u001b[0m \u001b[39m# T1 T2 + depolarizing\u001b[39;00m\n\u001b[0;32m----> 4\u001b[0m error_t1t2_dep \u001b[39m=\u001b[39m noise\u001b[39m.\u001b[39mthermal_relaxation_error(t1, t2, meas_time)\u001b[39m.\u001b[39mtensor(noise\u001b[39m.\u001b[39mdepolarizing_error(prob_a1, \u001b[39m1\u001b[39m))\n\u001b[1;32m      6\u001b[0m \u001b[39m# Collision\u001b[39;00m\n\u001b[1;32m      7\u001b[0m Imat \u001b[39m=\u001b[39m np\u001b[39m.\u001b[39marray([[\u001b[39m1.\u001b[39m,\u001b[39m0.\u001b[39m],[\u001b[39m0.\u001b[39m,\u001b[39m1.\u001b[39m]])\n",
      "\u001b[0;31mNameError\u001b[0m: name 'prob_a1' is not defined"
     ]
    }
   ],
   "source": [
    "# Combined errors\n",
    "\n",
    "# T1 T2 + depolarizing\n",
    "error_t1t2_dep = noise.thermal_relaxation_error(t1, t2, meas_time).tensor(noise.depolarizing_error(prob_a1, 1))\n",
    "\n",
    "# Collision\n",
    "Imat = np.array([[1.,0.],[0.,1.]])\n",
    "Zmat = np.array([[1.,0.],[0.,-1.]])\n",
    "def U_col(delta,J):\n",
    "    Ham = J*np.array([[0,0,0,0],[0,0,1,0],[0,1,0,0],[0,0,0,0]]) + (delta)*np.kron(Imat,Zmat)/2\n",
    "    return sp.linalg.expm(-1j*Ham*meas_time)\n",
    "\n",
    "# ZZ-coupling\n",
    "Emat = np.array([[0.,0.],[0.,1.]])\n",
    "ZZ_Ham = np.kron(Zmat,Emat)\n",
    "\n",
    "def U_ZZ(ZZ_rate):\n",
    "    return sp.linalg.expm(-1j*ZZ_rate*meas_time*ZZ_Ham)"
   ]
  },
  {
   "cell_type": "markdown",
   "id": "ac3c98c2",
   "metadata": {},
   "source": [
    "### Construct circuits"
   ]
  },
  {
   "cell_type": "code",
   "execution_count": 14,
   "id": "a66e22ce",
   "metadata": {},
   "outputs": [],
   "source": [
    "seeds = 60\n",
    "xval = np.insert(np.ceil(np.geomspace(1,150,14)).astype(int),0,0)\n",
    "sqrb_list = [0]\n",
    "ancilla_q_list = [1]\n",
    "\n",
    "mcm_rb_circs_sim, noise_model_sim = mcmrb_sims.mcm_rb_circs(xval, \n",
    "                         seeds=seeds, \n",
    "                         rb_list=sqrb_list, \n",
    "                         ancilla_list=ancilla_q_list, \n",
    "                \n",
    "                                   make_mcm_only_circuits=True, \n",
    "                                   make_delay_circuits=True)\n"
   ]
  },
  {
   "cell_type": "code",
   "execution_count": 29,
   "id": "37c65f5d",
   "metadata": {},
   "outputs": [
    {
     "data": {
      "text/html": [
       "<pre style=\"word-wrap: normal;white-space: pre;background: #fff0;line-height: 1.1;font-family: &quot;Courier New&quot;,Courier,monospace\">     ┌──────────┐ ░ ┌──────────────┐┌─────────┐┌───────────────┐ ░ »\n",
       "q_0: ┤ Clifford ├─░─┤1             ├┤1        ├┤1              ├─░─»\n",
       "     └──────────┘ ░ │  pre_meas_id ││  meas_u ││  post_meas_id │ ░ »\n",
       "q_1: ─────────────░─┤0             ├┤0        ├┤0              ├─░─»\n",
       "                  ░ └──────────────┘└─────────┘└───────────────┘ ░ »\n",
       "c: 2/══════════════════════════════════════════════════════════════»\n",
       "                                                                   »\n",
       "«     ┌─────────────────────────────────────────────────────────┐ ░ »\n",
       "«q_0: ┤ Clifford: Stabilizer = ['+Y'], Destabilizer = ['+X']_dg ├─░─»\n",
       "«     └─────────────────────────────────────────────────────────┘ ░ »\n",
       "«q_1: ────────────────────────────────────────────────────────────░─»\n",
       "«                                                                 ░ »\n",
       "«c: 2/══════════════════════════════════════════════════════════════»\n",
       "«                                                                   »\n",
       "«      probabilities ┌─┐   \n",
       "«q_0: ───────░───────┤M├───\n",
       "«            ░       └╥┘┌─┐\n",
       "«q_1: ───────░────────╫─┤M├\n",
       "«            ░        ║ └╥┘\n",
       "«c: 2/════════════════╩══╩═\n",
       "«                     0  1 </pre>"
      ],
      "text/plain": [
       "     ┌──────────┐ ░ ┌──────────────┐┌─────────┐┌───────────────┐ ░ »\n",
       "q_0: ┤ Clifford ├─░─┤1             ├┤1        ├┤1              ├─░─»\n",
       "     └──────────┘ ░ │  pre_meas_id ││  meas_u ││  post_meas_id │ ░ »\n",
       "q_1: ─────────────░─┤0             ├┤0        ├┤0              ├─░─»\n",
       "                  ░ └──────────────┘└─────────┘└───────────────┘ ░ »\n",
       "c: 2/══════════════════════════════════════════════════════════════»\n",
       "                                                                   »\n",
       "«     ┌─────────────────────────────────────────────────────────┐ ░ »\n",
       "«q_0: ┤ Clifford: Stabilizer = ['+Y'], Destabilizer = ['+X']_dg ├─░─»\n",
       "«     └─────────────────────────────────────────────────────────┘ ░ »\n",
       "«q_1: ────────────────────────────────────────────────────────────░─»\n",
       "«                                                                 ░ »\n",
       "«c: 2/══════════════════════════════════════════════════════════════»\n",
       "«                                                                   »\n",
       "«      probabilities ┌─┐   \n",
       "«q_0: ───────░───────┤M├───\n",
       "«            ░       └╥┘┌─┐\n",
       "«q_1: ───────░────────╫─┤M├\n",
       "«            ░        ║ └╥┘\n",
       "«c: 2/════════════════╩══╩═\n",
       "«                     0  1 "
      ]
     },
     "execution_count": 29,
     "metadata": {},
     "output_type": "execute_result"
    }
   ],
   "source": [
    "mcm_rb_circs_sim[3].draw()"
   ]
  },
  {
   "cell_type": "code",
   "execution_count": 18,
   "id": "a2e2381a",
   "metadata": {},
   "outputs": [
    {
     "ename": "KeyboardInterrupt",
     "evalue": "",
     "output_type": "error",
     "traceback": [
      "\u001b[0;31m---------------------------------------------------------------------------\u001b[0m",
      "\u001b[0;31mKeyboardInterrupt\u001b[0m                         Traceback (most recent call last)",
      "Cell \u001b[0;32mIn[18], line 1\u001b[0m\n\u001b[0;32m----> 1\u001b[0m mcm_rb_tp \u001b[39m=\u001b[39m transpile(mcm_rb_circs_sim, \n\u001b[1;32m      2\u001b[0m                 basis_gates\u001b[39m=\u001b[39;49m[\u001b[39m'\u001b[39;49m\u001b[39mid\u001b[39;49m\u001b[39m'\u001b[39;49m,\u001b[39m'\u001b[39;49m\u001b[39mrz\u001b[39;49m\u001b[39m'\u001b[39;49m,\u001b[39m'\u001b[39;49m\u001b[39msx\u001b[39;49m\u001b[39m'\u001b[39;49m,\u001b[39m'\u001b[39;49m\u001b[39mx\u001b[39;49m\u001b[39m'\u001b[39;49m,\u001b[39m'\u001b[39;49m\u001b[39mcx\u001b[39;49m\u001b[39m'\u001b[39;49m,\u001b[39m'\u001b[39;49m\u001b[39munitary\u001b[39;49m\u001b[39m'\u001b[39;49m,\u001b[39m'\u001b[39;49m\u001b[39msave_probabilities\u001b[39;49m\u001b[39m'\u001b[39;49m], \n\u001b[1;32m      3\u001b[0m                 optimization_level\u001b[39m=\u001b[39;49m\u001b[39m1\u001b[39;49m)\n",
      "File \u001b[0;32m/Library/Frameworks/Python.framework/Versions/3.9/lib/python3.9/site-packages/qiskit/compiler/transpiler.py:382\u001b[0m, in \u001b[0;36mtranspile\u001b[0;34m(circuits, backend, basis_gates, inst_map, coupling_map, backend_properties, initial_layout, layout_method, routing_method, translation_method, scheduling_method, instruction_durations, dt, approximation_degree, timing_constraints, seed_transpiler, optimization_level, callback, output_name, unitary_synthesis_method, unitary_synthesis_plugin_config, target, hls_config, init_method, optimization_method, ignore_backend_supplied_default_methods)\u001b[0m\n\u001b[1;32m    379\u001b[0m     \u001b[39mfor\u001b[39;00m circuit, unique_args \u001b[39min\u001b[39;00m \u001b[39mzip\u001b[39m(circuits, unique_transpile_args):\n\u001b[1;32m    380\u001b[0m         transpile_config, pass_manager \u001b[39m=\u001b[39m _combine_args(shared_args, unique_args)\n\u001b[1;32m    381\u001b[0m         output_circuits\u001b[39m.\u001b[39mappend(\n\u001b[0;32m--> 382\u001b[0m             _serial_transpile_circuit(\n\u001b[1;32m    383\u001b[0m                 circuit,\n\u001b[1;32m    384\u001b[0m                 pass_manager,\n\u001b[1;32m    385\u001b[0m                 transpile_config[\u001b[39m\"\u001b[39;49m\u001b[39mcallback\u001b[39;49m\u001b[39m\"\u001b[39;49m],\n\u001b[1;32m    386\u001b[0m                 transpile_config[\u001b[39m\"\u001b[39;49m\u001b[39moutput_name\u001b[39;49m\u001b[39m\"\u001b[39;49m],\n\u001b[1;32m    387\u001b[0m                 transpile_config[\u001b[39m\"\u001b[39;49m\u001b[39mbackend_num_qubits\u001b[39;49m\u001b[39m\"\u001b[39;49m],\n\u001b[1;32m    388\u001b[0m                 transpile_config[\u001b[39m\"\u001b[39;49m\u001b[39mfaulty_qubits_map\u001b[39;49m\u001b[39m\"\u001b[39;49m],\n\u001b[1;32m    389\u001b[0m                 transpile_config[\u001b[39m\"\u001b[39;49m\u001b[39mpass_manager_config\u001b[39;49m\u001b[39m\"\u001b[39;49m]\u001b[39m.\u001b[39;49mbackend_properties,\n\u001b[1;32m    390\u001b[0m             )\n\u001b[1;32m    391\u001b[0m         )\n\u001b[1;32m    392\u001b[0m     circuits \u001b[39m=\u001b[39m output_circuits\n\u001b[1;32m    393\u001b[0m end_time \u001b[39m=\u001b[39m time()\n",
      "File \u001b[0;32m/Library/Frameworks/Python.framework/Versions/3.9/lib/python3.9/site-packages/qiskit/compiler/transpiler.py:475\u001b[0m, in \u001b[0;36m_serial_transpile_circuit\u001b[0;34m(circuit, pass_manager, callback, output_name, num_qubits, faulty_qubits_map, backend_prop)\u001b[0m\n\u001b[1;32m    466\u001b[0m \u001b[39mdef\u001b[39;00m \u001b[39m_serial_transpile_circuit\u001b[39m(\n\u001b[1;32m    467\u001b[0m     circuit,\n\u001b[1;32m    468\u001b[0m     pass_manager,\n\u001b[0;32m   (...)\u001b[0m\n\u001b[1;32m    473\u001b[0m     backend_prop\u001b[39m=\u001b[39m\u001b[39mNone\u001b[39;00m,\n\u001b[1;32m    474\u001b[0m ):\n\u001b[0;32m--> 475\u001b[0m     result \u001b[39m=\u001b[39m pass_manager\u001b[39m.\u001b[39;49mrun(circuit, callback\u001b[39m=\u001b[39;49mcallback, output_name\u001b[39m=\u001b[39;49moutput_name)\n\u001b[1;32m    476\u001b[0m     \u001b[39mif\u001b[39;00m faulty_qubits_map:\n\u001b[1;32m    477\u001b[0m         \u001b[39mreturn\u001b[39;00m _remap_circuit_faulty_backend(\n\u001b[1;32m    478\u001b[0m             result,\n\u001b[1;32m    479\u001b[0m             num_qubits,\n\u001b[1;32m    480\u001b[0m             backend_prop,\n\u001b[1;32m    481\u001b[0m             faulty_qubits_map,\n\u001b[1;32m    482\u001b[0m         )\n",
      "File \u001b[0;32m/Library/Frameworks/Python.framework/Versions/3.9/lib/python3.9/site-packages/qiskit/transpiler/passmanager.py:528\u001b[0m, in \u001b[0;36mStagedPassManager.run\u001b[0;34m(self, circuits, output_name, callback)\u001b[0m\n\u001b[1;32m    521\u001b[0m \u001b[39mdef\u001b[39;00m \u001b[39mrun\u001b[39m(\n\u001b[1;32m    522\u001b[0m     \u001b[39mself\u001b[39m,\n\u001b[1;32m    523\u001b[0m     circuits: Union[QuantumCircuit, List[QuantumCircuit]],\n\u001b[1;32m    524\u001b[0m     output_name: \u001b[39mstr\u001b[39m \u001b[39m=\u001b[39m \u001b[39mNone\u001b[39;00m,\n\u001b[1;32m    525\u001b[0m     callback: Callable \u001b[39m=\u001b[39m \u001b[39mNone\u001b[39;00m,\n\u001b[1;32m    526\u001b[0m ) \u001b[39m-\u001b[39m\u001b[39m>\u001b[39m Union[QuantumCircuit, List[QuantumCircuit]]:\n\u001b[1;32m    527\u001b[0m     \u001b[39mself\u001b[39m\u001b[39m.\u001b[39m_update_passmanager()\n\u001b[0;32m--> 528\u001b[0m     \u001b[39mreturn\u001b[39;00m \u001b[39msuper\u001b[39;49m()\u001b[39m.\u001b[39;49mrun(circuits, output_name, callback)\n",
      "File \u001b[0;32m/Library/Frameworks/Python.framework/Versions/3.9/lib/python3.9/site-packages/qiskit/transpiler/passmanager.py:228\u001b[0m, in \u001b[0;36mPassManager.run\u001b[0;34m(self, circuits, output_name, callback)\u001b[0m\n\u001b[1;32m    226\u001b[0m     \u001b[39mreturn\u001b[39;00m circuits\n\u001b[1;32m    227\u001b[0m \u001b[39mif\u001b[39;00m \u001b[39misinstance\u001b[39m(circuits, QuantumCircuit):\n\u001b[0;32m--> 228\u001b[0m     \u001b[39mreturn\u001b[39;00m \u001b[39mself\u001b[39;49m\u001b[39m.\u001b[39;49m_run_single_circuit(circuits, output_name, callback)\n\u001b[1;32m    229\u001b[0m \u001b[39mif\u001b[39;00m \u001b[39mlen\u001b[39m(circuits) \u001b[39m==\u001b[39m \u001b[39m1\u001b[39m:\n\u001b[1;32m    230\u001b[0m     \u001b[39mreturn\u001b[39;00m \u001b[39mself\u001b[39m\u001b[39m.\u001b[39m_run_single_circuit(circuits[\u001b[39m0\u001b[39m], output_name, callback)\n",
      "File \u001b[0;32m/Library/Frameworks/Python.framework/Versions/3.9/lib/python3.9/site-packages/qiskit/transpiler/passmanager.py:283\u001b[0m, in \u001b[0;36mPassManager._run_single_circuit\u001b[0;34m(self, circuit, output_name, callback)\u001b[0m\n\u001b[1;32m    271\u001b[0m \u001b[39m\"\"\"Run all the passes on a ``circuit``.\u001b[39;00m\n\u001b[1;32m    272\u001b[0m \n\u001b[1;32m    273\u001b[0m \u001b[39mArgs:\u001b[39;00m\n\u001b[0;32m   (...)\u001b[0m\n\u001b[1;32m    280\u001b[0m \u001b[39m    The transformed circuit.\u001b[39;00m\n\u001b[1;32m    281\u001b[0m \u001b[39m\"\"\"\u001b[39;00m\n\u001b[1;32m    282\u001b[0m running_passmanager \u001b[39m=\u001b[39m \u001b[39mself\u001b[39m\u001b[39m.\u001b[39m_create_running_passmanager()\n\u001b[0;32m--> 283\u001b[0m result \u001b[39m=\u001b[39m running_passmanager\u001b[39m.\u001b[39;49mrun(circuit, output_name\u001b[39m=\u001b[39;49moutput_name, callback\u001b[39m=\u001b[39;49mcallback)\n\u001b[1;32m    284\u001b[0m \u001b[39mself\u001b[39m\u001b[39m.\u001b[39mproperty_set \u001b[39m=\u001b[39m running_passmanager\u001b[39m.\u001b[39mproperty_set\n\u001b[1;32m    285\u001b[0m \u001b[39mreturn\u001b[39;00m result\n",
      "File \u001b[0;32m/Library/Frameworks/Python.framework/Versions/3.9/lib/python3.9/site-packages/qiskit/transpiler/runningpassmanager.py:125\u001b[0m, in \u001b[0;36mRunningPassManager.run\u001b[0;34m(***failed resolving arguments***)\u001b[0m\n\u001b[1;32m    123\u001b[0m \u001b[39mfor\u001b[39;00m passset \u001b[39min\u001b[39;00m \u001b[39mself\u001b[39m\u001b[39m.\u001b[39mworking_list:\n\u001b[1;32m    124\u001b[0m     \u001b[39mfor\u001b[39;00m pass_ \u001b[39min\u001b[39;00m passset:\n\u001b[0;32m--> 125\u001b[0m         dag \u001b[39m=\u001b[39m \u001b[39mself\u001b[39;49m\u001b[39m.\u001b[39;49m_do_pass(pass_, dag, passset\u001b[39m.\u001b[39;49moptions)\n\u001b[1;32m    127\u001b[0m circuit \u001b[39m=\u001b[39m dag_to_circuit(dag)\n\u001b[1;32m    128\u001b[0m \u001b[39mif\u001b[39;00m output_name:\n",
      "File \u001b[0;32m/Library/Frameworks/Python.framework/Versions/3.9/lib/python3.9/site-packages/qiskit/transpiler/runningpassmanager.py:172\u001b[0m, in \u001b[0;36mRunningPassManager._do_pass\u001b[0;34m(self, pass_, dag, options)\u001b[0m\n\u001b[1;32m    170\u001b[0m \u001b[39m# Run the pass itself, if not already run\u001b[39;00m\n\u001b[1;32m    171\u001b[0m \u001b[39mif\u001b[39;00m pass_ \u001b[39mnot\u001b[39;00m \u001b[39min\u001b[39;00m \u001b[39mself\u001b[39m\u001b[39m.\u001b[39mvalid_passes:\n\u001b[0;32m--> 172\u001b[0m     dag \u001b[39m=\u001b[39m \u001b[39mself\u001b[39;49m\u001b[39m.\u001b[39;49m_run_this_pass(pass_, dag)\n\u001b[1;32m    174\u001b[0m     \u001b[39m# update the valid_passes property\u001b[39;00m\n\u001b[1;32m    175\u001b[0m     \u001b[39mself\u001b[39m\u001b[39m.\u001b[39m_update_valid_passes(pass_)\n",
      "File \u001b[0;32m/Library/Frameworks/Python.framework/Versions/3.9/lib/python3.9/site-packages/qiskit/transpiler/runningpassmanager.py:201\u001b[0m, in \u001b[0;36mRunningPassManager._run_this_pass\u001b[0;34m(self, pass_, dag)\u001b[0m\n\u001b[1;32m    198\u001b[0m \u001b[39mif\u001b[39;00m pass_\u001b[39m.\u001b[39mis_transformation_pass:\n\u001b[1;32m    199\u001b[0m     \u001b[39m# Measure time if we have a callback or logging set\u001b[39;00m\n\u001b[1;32m    200\u001b[0m     start_time \u001b[39m=\u001b[39m time()\n\u001b[0;32m--> 201\u001b[0m     new_dag \u001b[39m=\u001b[39m pass_\u001b[39m.\u001b[39;49mrun(dag)\n\u001b[1;32m    202\u001b[0m     end_time \u001b[39m=\u001b[39m time()\n\u001b[1;32m    203\u001b[0m     run_time \u001b[39m=\u001b[39m end_time \u001b[39m-\u001b[39m start_time\n",
      "File \u001b[0;32m/Library/Frameworks/Python.framework/Versions/3.9/lib/python3.9/site-packages/qiskit/transpiler/passes/scheduling/time_unit_conversion.py:94\u001b[0m, in \u001b[0;36mTimeUnitConversion.run\u001b[0;34m(self, dag)\u001b[0m\n\u001b[1;32m     91\u001b[0m \u001b[39mtry\u001b[39;00m:\n\u001b[1;32m     92\u001b[0m     node\u001b[39m.\u001b[39mop \u001b[39m=\u001b[39m node\u001b[39m.\u001b[39mop\u001b[39m.\u001b[39mcopy()\n\u001b[1;32m     93\u001b[0m     node\u001b[39m.\u001b[39mop\u001b[39m.\u001b[39mduration \u001b[39m=\u001b[39m \u001b[39mself\u001b[39m\u001b[39m.\u001b[39minst_durations\u001b[39m.\u001b[39mget(\n\u001b[0;32m---> 94\u001b[0m         node\u001b[39m.\u001b[39mop, [bit_indices[qarg] \u001b[39mfor\u001b[39;00m qarg \u001b[39min\u001b[39;00m node\u001b[39m.\u001b[39mqargs], unit\u001b[39m=\u001b[39mtime_unit\n\u001b[1;32m     95\u001b[0m     )\n\u001b[1;32m     96\u001b[0m     node\u001b[39m.\u001b[39mop\u001b[39m.\u001b[39munit \u001b[39m=\u001b[39m time_unit\n\u001b[1;32m     97\u001b[0m \u001b[39mexcept\u001b[39;00m TranspilerError:\n",
      "File \u001b[0;32m/Library/Frameworks/Python.framework/Versions/3.9/lib/python3.9/site-packages/qiskit/transpiler/passes/scheduling/time_unit_conversion.py:94\u001b[0m, in \u001b[0;36m<listcomp>\u001b[0;34m(.0)\u001b[0m\n\u001b[1;32m     91\u001b[0m \u001b[39mtry\u001b[39;00m:\n\u001b[1;32m     92\u001b[0m     node\u001b[39m.\u001b[39mop \u001b[39m=\u001b[39m node\u001b[39m.\u001b[39mop\u001b[39m.\u001b[39mcopy()\n\u001b[1;32m     93\u001b[0m     node\u001b[39m.\u001b[39mop\u001b[39m.\u001b[39mduration \u001b[39m=\u001b[39m \u001b[39mself\u001b[39m\u001b[39m.\u001b[39minst_durations\u001b[39m.\u001b[39mget(\n\u001b[0;32m---> 94\u001b[0m         node\u001b[39m.\u001b[39mop, [bit_indices[qarg] \u001b[39mfor\u001b[39;00m qarg \u001b[39min\u001b[39;00m node\u001b[39m.\u001b[39mqargs], unit\u001b[39m=\u001b[39mtime_unit\n\u001b[1;32m     95\u001b[0m     )\n\u001b[1;32m     96\u001b[0m     node\u001b[39m.\u001b[39mop\u001b[39m.\u001b[39munit \u001b[39m=\u001b[39m time_unit\n\u001b[1;32m     97\u001b[0m \u001b[39mexcept\u001b[39;00m TranspilerError:\n",
      "File \u001b[0;32m/Library/Frameworks/Python.framework/Versions/3.9/lib/python3.9/site-packages/qiskit/circuit/bit.py:94\u001b[0m, in \u001b[0;36mBit.__hash__\u001b[0;34m(self)\u001b[0m\n\u001b[1;32m     91\u001b[0m         \u001b[39mreturn\u001b[39;00m \u001b[39mobject\u001b[39m\u001b[39m.\u001b[39m\u001b[39m__repr__\u001b[39m(\u001b[39mself\u001b[39m)\n\u001b[1;32m     92\u001b[0m     \u001b[39mreturn\u001b[39;00m \u001b[39mself\u001b[39m\u001b[39m.\u001b[39m_repr\n\u001b[0;32m---> 94\u001b[0m \u001b[39mdef\u001b[39;00m \u001b[39m__hash__\u001b[39m(\u001b[39mself\u001b[39m):\n\u001b[1;32m     95\u001b[0m     \u001b[39mreturn\u001b[39;00m \u001b[39mself\u001b[39m\u001b[39m.\u001b[39m_hash\n\u001b[1;32m     97\u001b[0m \u001b[39mdef\u001b[39;00m \u001b[39m__eq__\u001b[39m(\u001b[39mself\u001b[39m, other):\n",
      "\u001b[0;31mKeyboardInterrupt\u001b[0m: "
     ]
    }
   ],
   "source": [
    "mcm_rb_tp = transpile(mcm_rb_circs_sim, \n",
    "                basis_gates=['id','rz','sx','x','cx','unitary','save_probabilities'], \n",
    "                optimization_level=1)"
   ]
  },
  {
   "cell_type": "markdown",
   "id": "90a56c26",
   "metadata": {},
   "source": [
    "## Simulate"
   ]
  },
  {
   "cell_type": "markdown",
   "id": "12323eba",
   "metadata": {},
   "source": [
    "### non-QND Measurement Error"
   ]
  },
  {
   "cell_type": "code",
   "execution_count": null,
   "id": "ae5f3cc4",
   "metadata": {},
   "outputs": [],
   "source": [
    "# non-QND Error\n",
    "# Control = Pre-m T1,T2\n",
    "# Ancilla = Post-m Depolarizing\n",
    "\n",
    "dep_probs = np.arange(0.02,0.21,0.02)\n",
    "\n",
    "qnd_sims = []\n",
    "for x in dep_probs:    \n",
    "    noise_model = noise.NoiseModel()\n",
    "    noise_model = noise_model.from_dict(noise_model_sim.to_dict())\n",
    "    \n",
    "    noise_model.add_all_qubit_quantum_error(error_c1, ['sx', 'x', 'id'])\n",
    "    noise_model.add_all_qubit_quantum_error(error_c2, ['cx'])\n",
    "    \n",
    "    noise_model.add_quantum_error(error_t1t2, ['pre_meas_id'], [1,0])\n",
    "    noise_model.add_quantum_error(error_t1t2, ['pre_delay_id'], [1,0])\n",
    "    \n",
    "    error_a1 = noise.depolarizing_error(0.0, 1).tensor(noise.depolarizing_error(x, 1))\n",
    "    noise_model.add_quantum_error(error_a1, ['post_meas_id'], [1,0])\n",
    "    \n",
    "    qnd_sims.append(simulator.run(mcm_rb_tp,noise_model=noise_model))"
   ]
  },
  {
   "cell_type": "code",
   "execution_count": null,
   "id": "5fd63395",
   "metadata": {},
   "outputs": [],
   "source": [
    "xvals_qnd = []\n",
    "rb_res_qnd = []\n",
    "fits_qnd = []\n",
    "lfits_qnd = []\n",
    "\n",
    "for i in range(len(qnd_sims)):\n",
    "    xvals_temp, rb_res_temp, fits_temp, lfits_temp = mcmrb_sims.fit_mcm_RB_sims(qnd_sims[i], sqrb_list, ancilla_q_list)\n",
    "    xvals_qnd.append(xvals_temp)\n",
    "    rb_res_qnd.append(rb_res_temp)\n",
    "    fits_qnd.append(fits_temp)\n",
    "    lfits_qnd.append(lfits_temp)"
   ]
  },
  {
   "cell_type": "code",
   "execution_count": null,
   "id": "edd88a3b",
   "metadata": {},
   "outputs": [],
   "source": [
    "save_object([xvals_qnd,rb_res_qnd,fits_qnd,lfits_qnd],\"qnd_sims1.pickle\")"
   ]
  },
  {
   "cell_type": "markdown",
   "id": "d9ec1e04",
   "metadata": {},
   "source": [
    "### Stark Shift"
   ]
  },
  {
   "cell_type": "code",
   "execution_count": null,
   "id": "e3a6fe67",
   "metadata": {},
   "outputs": [],
   "source": [
    "# Control error: Stark\n",
    "# Control = Pre-m Stark Z Post-m T1,T2\n",
    "# Ancilla = Ideal\n",
    "\n",
    "phis = 2*np.pi*20/1000*0.71*np.arange(0.05,1.05,0.05)\n",
    "\n",
    "stark_sims = []\n",
    "for x in phis:\n",
    "    noise_model = noise.NoiseModel()\n",
    "    noise_model = noise_model.from_dict(noise_model_sim.to_dict())\n",
    "    \n",
    "    noise_model.add_all_qubit_quantum_error(error_c1, ['sx', 'x', 'id'])\n",
    "    noise_model.add_all_qubit_quantum_error(error_c2, ['cx'])\n",
    "    \n",
    "    noise_model.add_quantum_error(error_t1t2, ['post_meas_id'], [1,0])\n",
    "#     noise_model.add_quantum_error(error_t1t2, ['pre_meas_id'], [1,0])\n",
    "    noise_model.add_quantum_error(error_t1t2, ['post_delay_id'], [1,0])\n",
    "    \n",
    "    error_stark = noise.coherent_unitary_error(U_stark(x)).tensor(noise.depolarizing_error(0.0, 1))\n",
    "    noise_model.add_quantum_error(error_stark, ['pre_meas_id'], [1,0])\n",
    "#     noise_model.add_quantum_error(error_stark, ['post_meas_id'], [1,0])\n",
    "    \n",
    "    stark_sims.append(simulator.run(mcm_rb_tp,shots=shots,noise_model=noise_model))"
   ]
  },
  {
   "cell_type": "code",
   "execution_count": null,
   "id": "f438ccb3",
   "metadata": {},
   "outputs": [],
   "source": [
    "xvals_st = []\n",
    "rb_res_st = []\n",
    "fits_st = []\n",
    "lfits_st = []\n",
    "\n",
    "for i in range(len(stark_sims)):\n",
    "    xvals_temp, rb_res_temp, fits_temp, lfits_temp = mcmrb_sims.fit_mcm_RB_sims(stark_sims[i], sqrb_list, ancilla_q_list)\n",
    "    xvals_st.append(xvals_temp)\n",
    "    rb_res_st.append(rb_res_temp)\n",
    "    fits_st.append(fits_temp)\n",
    "    lfits_st.append(lfits_temp)"
   ]
  },
  {
   "cell_type": "code",
   "execution_count": null,
   "id": "5b9e1e9e",
   "metadata": {},
   "outputs": [],
   "source": [
    "save_object([xvals_st,rb_res_st,fits_st,lfits_st],\"st_sims1.pickle\")"
   ]
  },
  {
   "cell_type": "markdown",
   "id": "e4d4b21e",
   "metadata": {},
   "source": [
    "### Cross-Measurement"
   ]
  },
  {
   "cell_type": "code",
   "execution_count": null,
   "id": "f9eba5e1",
   "metadata": {},
   "outputs": [],
   "source": [
    "# Control error: cross-meas\n",
    "# Control = Pre-m Prob cross-meas Z Post-m T1,T2\n",
    "# Ancilla = Ideal\n",
    "\n",
    "cm_probs = np.arange(0.01,0.21,0.01)\n",
    "\n",
    "cm_sims = []\n",
    "for x in cm_probs:\n",
    "    noise_model = noise.NoiseModel()\n",
    "    noise_model = noise_model.from_dict(noise_model_sim.to_dict())\n",
    "    \n",
    "    noise_model.add_all_qubit_quantum_error(error_c1, ['sx', 'x', 'id'])\n",
    "    noise_model.add_all_qubit_quantum_error(error_c2, ['cx'])\n",
    "    \n",
    "    noise_model.add_quantum_error(error_t1t2, ['post_meas_id'], [1,0])\n",
    "    noise_model.add_quantum_error(error_t1t2, ['post_delay_id'], [1,0])\n",
    "    \n",
    "    error_cm = noise.kraus_error(cm_K(x)).tensor(noise.depolarizing_error(0.0, 1))\n",
    "    noise_model.add_quantum_error(error_cm, ['pre_meas_id'], [1,0])\n",
    "    \n",
    "    cm_sims.append(simulator.run(mcm_rb_tp,shots=shots,noise_model=noise_model))"
   ]
  },
  {
   "cell_type": "code",
   "execution_count": null,
   "id": "c780a14a",
   "metadata": {},
   "outputs": [],
   "source": [
    "xvals_cm = []\n",
    "rb_res_cm = []\n",
    "fits_cm = []\n",
    "lfits_cm = []\n",
    "\n",
    "for i in range(len(cm_sims)):\n",
    "    xvals_temp, rb_res_temp, fits_temp, lfits_temp = mcmrb_sims.fit_mcm_RB_sims(cm_sims[i], sqrb_list, ancilla_q_list)\n",
    "    xvals_cm.append(xvals_temp)\n",
    "    rb_res_cm.append(rb_res_temp)\n",
    "    fits_cm.append(fits_temp)\n",
    "    lfits_cm.append(lfits_temp)"
   ]
  },
  {
   "cell_type": "code",
   "execution_count": null,
   "id": "134bd945",
   "metadata": {},
   "outputs": [],
   "source": [
    "save_object([xvals_cm,rb_res_cm,fits_cm,lfits_cm],\"cm_sims1.pickle\")"
   ]
  },
  {
   "cell_type": "markdown",
   "id": "cf78ede7",
   "metadata": {},
   "source": [
    "### Collision"
   ]
  },
  {
   "cell_type": "code",
   "execution_count": null,
   "id": "ed686053",
   "metadata": {},
   "outputs": [],
   "source": [
    "# Collision\n",
    "# Control = Pre-m Collision Z Post-m T1,T2\n",
    "# Ancilla = Ideal\n",
    "\n",
    "deltas = 2*np.pi*np.array([0.0,1.0,2.0,5.0,10.0,20.0,50.0,100.0,200.0,500.0])\n",
    "\n",
    "col_sims = []\n",
    "for x in deltas:\n",
    "    noise_model = noise.NoiseModel()\n",
    "    noise_model = noise_model.from_dict(noise_model_sim.to_dict())\n",
    "    \n",
    "    noise_model.add_all_qubit_quantum_error(error_c1, ['sx', 'x', 'id'])\n",
    "    noise_model.add_all_qubit_quantum_error(error_c2, ['cx'])\n",
    "    \n",
    "    noise_model.add_quantum_error(error_t1t2, ['post_meas_id'], [1,0])\n",
    "    noise_model.add_quantum_error(error_t1t2, ['post_delay_id'], [1,0])\n",
    "    \n",
    "    error_col= noise.coherent_unitary_error(U_col(x,2*np.pi))\n",
    "    noise_model.add_quantum_error(error_col, ['pre_meas_id'], [1,0])\n",
    "    \n",
    "    col_sims.append(simulator.run(mcm_rb_tp,shots=shots,noise_model=noise_model))"
   ]
  },
  {
   "cell_type": "code",
   "execution_count": null,
   "id": "65b0459c",
   "metadata": {},
   "outputs": [],
   "source": [
    "xvals_col = []\n",
    "rb_res_col = []\n",
    "fits_col = []\n",
    "lfits_col = []\n",
    "\n",
    "for i in range(len(col_sims)):\n",
    "    xvals_temp, rb_res_temp, fits_temp, lfits_temp = mcmrb_sims.fit_mcm_RB_sims(col_sims[i], sqrb_list, ancilla_q_list)\n",
    "    xvals_col.append(xvals_temp)\n",
    "    rb_res_col.append(rb_res_temp)\n",
    "    fits_col.append(fits_temp)\n",
    "    lfits_col.append(lfits_temp)"
   ]
  },
  {
   "cell_type": "code",
   "execution_count": null,
   "id": "43f1c99a",
   "metadata": {},
   "outputs": [],
   "source": [
    "save_object([xvals_col,rb_res_col,fits_col,lfits_col],\"col_sims1.pickle\")"
   ]
  },
  {
   "cell_type": "markdown",
   "id": "0bb65b15",
   "metadata": {},
   "source": [
    "### ZZ-coupling"
   ]
  },
  {
   "cell_type": "code",
   "execution_count": null,
   "id": "8d64ec98",
   "metadata": {},
   "outputs": [],
   "source": [
    "# ZZ\n",
    "# Control = Pre-m ZZ Z Post-m T1,T2\n",
    "# Ancilla = Pre-m ZZ Post-m T1,T2\n",
    "\n",
    "ZZ0 = 2*np.pi*50.0/1000\n",
    "T1s = [100.0,10.0,1.0,0.1,0.01]\n",
    "\n",
    "ZZ_sims = []\n",
    "for x in T1s:\n",
    "    \n",
    "    error_t1t2_both = noise.thermal_relaxation_error(t1, t2, meas_time).tensor(noise.thermal_relaxation_error(x, x/3, meas_time))\n",
    "    noise_model = noise.NoiseModel()\n",
    "    noise_model = noise_model.from_dict(noise_model_sim.to_dict())\n",
    "    \n",
    "    noise_model.add_all_qubit_quantum_error(error_c1, ['sx', 'x', 'id'])\n",
    "    \n",
    "    noise_model.add_quantum_error(error_t1t2_both, ['post_meas_id'], [1,0])\n",
    "    noise_model.add_quantum_error(error_t1t2_both, ['post_delay_id'], [1,0])\n",
    "    \n",
    "    error_ZZ = noise.coherent_unitary_error(U_ZZ(ZZ0))\n",
    "    noise_model.add_quantum_error(error_ZZ, ['pre_meas_id'], [1,0])\n",
    "    \n",
    "    ZZ_sims.append(simulator.run(mcm_rb_tp,noise_model=noise_model))"
   ]
  },
  {
   "cell_type": "code",
   "execution_count": null,
   "id": "cfe05347",
   "metadata": {},
   "outputs": [],
   "source": [
    "xvals_ZZ = []\n",
    "rb_res_ZZ = []\n",
    "fits_ZZ = []\n",
    "lfits_ZZ = []\n",
    "\n",
    "for i in range(len(ZZ_sims)):\n",
    "    xvals_temp, rb_res_temp, fits_temp, lfits_temp = mcmrb_sims.fit_mcm_RB_sims_free(ZZ_sims2[i], sqrb_list, ancilla_q_list)\n",
    "    xvals_ZZ.append(xvals_temp)\n",
    "    rb_res_ZZ.append(rb_res_temp)\n",
    "    fits_ZZ.append(fits_temp)\n",
    "    lfits_ZZ.append(lfits_temp)"
   ]
  },
  {
   "cell_type": "code",
   "execution_count": null,
   "id": "bc22f718",
   "metadata": {},
   "outputs": [],
   "source": [
    "save_object([xvals_ZZ,rb_res_ZZ,fits_ZZ,lfits_ZZ],\"ZZ_sims1.pickle\")"
   ]
  }
 ],
 "metadata": {
  "kernelspec": {
   "display_name": "Python 3",
   "language": "python",
   "name": "python3"
  },
  "language_info": {
   "codemirror_mode": {
    "name": "ipython",
    "version": 3
   },
   "file_extension": ".py",
   "mimetype": "text/x-python",
   "name": "python",
   "nbconvert_exporter": "python",
   "pygments_lexer": "ipython3",
   "version": "3.9.2"
  },
  "vscode": {
   "interpreter": {
    "hash": "7812ea015bdcee6f23a998adcdd2ef97c151c0c241b7b7070987d9313e41299d"
   }
  }
 },
 "nbformat": 4,
 "nbformat_minor": 5
}
